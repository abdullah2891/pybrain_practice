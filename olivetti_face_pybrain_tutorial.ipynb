{
 "cells": [
  {
   "cell_type": "code",
   "execution_count": 11,
   "metadata": {
    "collapsed": false
   },
   "outputs": [],
   "source": [
    "from sklearn import datasets\n",
    "from pybrain.datasets import ClassificationDataSet\n",
    "from pybrain.supervised.trainers import BackpropTrainer\n",
    "from pybrain.tools.shortcuts import buildNetwork\n",
    "import numpy as np\n",
    "import matplotlib.pyplot as plt "
   ]
  },
  {
   "cell_type": "code",
   "execution_count": 3,
   "metadata": {
    "collapsed": false
   },
   "outputs": [
    {
     "name": "stdout",
     "output_type": "stream",
     "text": [
      "#pictures 400 size 4096 target (400L,)\n"
     ]
    }
   ],
   "source": [
    "face = datasets.fetch_olivetti_faces()\n",
    "X,y = face.data, face.target\n",
    "print \"#pictures\",X.shape[0],\"size\",X.shape[1],\"target\", y.shape"
   ]
  },
  {
   "cell_type": "code",
   "execution_count": 4,
   "metadata": {
    "collapsed": false
   },
   "outputs": [
    {
     "name": "stdout",
     "output_type": "stream",
     "text": [
      "picture_size 4096 number of pictures 40\n"
     ]
    }
   ],
   "source": [
    "ds = ClassificationDataSet(X.shape[1],1,nb_classes=40)\n",
    "for k in xrange(len(X)):\n",
    "    ds.addSample(np.ravel(X[k]),y[k])\n",
    "tstdata,trndata = ds.splitWithProportion(0.25)\n",
    "trndata._convertToOneOfMany()\n",
    "tstdata._convertToOneOfMany()\n",
    "print \"picture_size\",trndata.indim,\"number of pictures\",trndata.outdim"
   ]
  },
  {
   "cell_type": "code",
   "execution_count": 5,
   "metadata": {
    "collapsed": false
   },
   "outputs": [],
   "source": [
    "fnn = buildNetwork(trndata.indim,64,trndata.outdim)\n",
    "trainer = BackpropTrainer(fnn,dataset=trndata,momentum=0.1,learningrate=0.01,verbose=True)\n"
   ]
  },
  {
   "cell_type": "code",
   "execution_count": 16,
   "metadata": {
    "collapsed": false
   },
   "outputs": [
    {
     "name": "stdout",
     "output_type": "stream",
     "text": [
      "Total error: 0.0145039239924\n",
      "Total error: 0.0145148180736\n",
      "Total error: 0.0144401218541\n",
      "Total error: 0.014448942874\n",
      "Total error: 0.0145229930958\n",
      "Total error: 0.0144768705816\n",
      "Total error: 0.0145007159738\n",
      "Total error: 0.0145108093994\n",
      "Total error: 0.0145107611675\n",
      "Total error: 0.0143742321234\n"
     ]
    }
   ],
   "source": [
    "epoch =50\n",
    "trainer.trainEpochs(10)"
   ]
  },
  {
   "cell_type": "code",
   "execution_count": 13,
   "metadata": {
    "collapsed": true
   },
   "outputs": [],
   "source": [
    "plt.show()\n"
   ]
  },
  {
   "cell_type": "code",
   "execution_count": null,
   "metadata": {
    "collapsed": true
   },
   "outputs": [],
   "source": []
  }
 ],
 "metadata": {
  "kernelspec": {
   "display_name": "Python 2",
   "language": "python",
   "name": "python2"
  },
  "language_info": {
   "codemirror_mode": {
    "name": "ipython",
    "version": 2
   },
   "file_extension": ".py",
   "mimetype": "text/x-python",
   "name": "python",
   "nbconvert_exporter": "python",
   "pygments_lexer": "ipython2",
   "version": "2.7.11"
  }
 },
 "nbformat": 4,
 "nbformat_minor": 0
}
